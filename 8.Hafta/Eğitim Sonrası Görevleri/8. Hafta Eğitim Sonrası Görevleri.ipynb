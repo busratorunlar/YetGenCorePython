{
 "cells": [
  {
   "attachments": {},
   "cell_type": "markdown",
   "metadata": {},
   "source": [
    "# Problem 1\n",
    "\n",
    "Şimdi beraber kullanıcılardan aldığımız verileri işleyerek, onlara hem çıktı verecek, hem de aldığımız ve hesapladığımız verileri ileride kullanabilmek adına kaydedeceğiz.\n",
    "\n",
    "\n",
    " **Bu bir veri giriş platformu olacak**\n",
    "\n",
    "\n",
    " * kullanıcıya kaç giriş yapacağını soracağız\n",
    "* kullanıcıdan isim-soyisim, yaş, boy, kilo bilgilerini alarak VKİ hesaplayacağız\n",
    "* ardından bunları sınıflara göre kaydedeceğiz bir dosyaya kaydedeceğiz\n",
    "\n",
    "\n",
    "Sınıflar ise şu şekilde: \n",
    "* 18, 5 kg/m.'nin altında olanlar: Zayıf\n",
    "* 18.5 – 24, 9 kg/m. arasında olanlar: Normal kilolu\n",
    "* 25 – 29, 9 kg/m. arasında olanlar: Fazla kilolu\n",
    "* 30 – 39, 9 kg/m. arasında olanlar: Obez\n",
    "* 40 kg/m.'nin üzerinde olanlar: İleri derecede obez (morbid obez), olarak görülür."
   ]
  },
  {
   "cell_type": "code",
   "execution_count": 2,
   "metadata": {},
   "outputs": [
    {
     "name": "stdout",
     "output_type": "stream",
     "text": [
      "Kullanıcı kaydı1\n"
     ]
    },
    {
     "ename": "TypeError",
     "evalue": "cannot unpack non-iterable function object",
     "output_type": "error",
     "traceback": [
      "\u001b[1;31m---------------------------------------------------------------------------\u001b[0m",
      "\u001b[1;31mTypeError\u001b[0m                                 Traceback (most recent call last)",
      "Cell \u001b[1;32mIn[2], line 35\u001b[0m\n\u001b[0;32m     33\u001b[0m \u001b[38;5;28;01mfor\u001b[39;00m i \u001b[38;5;129;01min\u001b[39;00m \u001b[38;5;28mrange\u001b[39m (giriş_sayısı):\n\u001b[0;32m     34\u001b[0m     \u001b[38;5;28mprint\u001b[39m(\u001b[38;5;124mf\u001b[39m\u001b[38;5;124m\"\u001b[39m\u001b[38;5;124mKullanıcı kaydı\u001b[39m\u001b[38;5;132;01m{\u001b[39;00mi\u001b[38;5;241m+\u001b[39m\u001b[38;5;241m1\u001b[39m\u001b[38;5;132;01m}\u001b[39;00m\u001b[38;5;124m\"\u001b[39m)\n\u001b[1;32m---> 35\u001b[0m     ad_soyad,yas,kilo,boy\u001b[38;5;241m=\u001b[39mbilgi_al\n\u001b[0;32m     36\u001b[0m     vki\u001b[38;5;241m=\u001b[39mvki_hesapla(kilo,boy)\n\u001b[0;32m     37\u001b[0m     değer\u001b[38;5;241m=\u001b[39m deger_hesapla(vki)\n",
      "\u001b[1;31mTypeError\u001b[0m: cannot unpack non-iterable function object"
     ]
    }
   ],
   "source": [
    "import time\n",
    "giriş_sayısı= int(input(\"Kaç kez giriş yapacaksınız?:\"))\n",
    "def bilgi_al():\n",
    "    ad_soyad=str(input(\"Adınız-Soyadınız:\"))\n",
    "    yas=input(\"Yaşınız:\")\n",
    "    boy=float(input(\"Boyunuz:\"))\n",
    "    kilo=float(input(\"Kilonuz:\"))\n",
    "    boycm=boy*100 #hata almamak adına boy değerini cm cinsine çeviriyoruz.\n",
    "    return ad_soyad, yas ,boy, kilo,boycm\n",
    "    \n",
    "def vki_hesapla(kilo,boycm):\n",
    "    return  kilo/(boycm **2)\n",
    "\n",
    "def deger_hesapla(vki):\n",
    "    if vki < 18.5 :\n",
    "      return(\"Zayıf\")\n",
    "    elif vki  <= 24.9:\n",
    "      return(\"Normal Kilolu\")\n",
    "    elif vki<= 29.9:\n",
    "      return (\"Fazla Kilolu\") \n",
    "    elif vki<= 39.9:\n",
    "      return(\"Obez\")\n",
    "    elif vki > 40:\n",
    "      return(\"Morbid Obez\")\n",
    "def output (ad_soyad,yas,kilo,boy,vki,deger,kayıt_tarihi):\n",
    "   t1 =f\"Kullanıcının ismi{ad_soyad}\"\n",
    "   t2=f\"kullanıcının yaşı{yas}\"\n",
    "   t3=f\"Kullanıcının boyu{boy}\"\n",
    "   t4=f\"Kullanıcının kilosu{kilo}\"\n",
    "   t5=f\"Kullanıcının VKİsi{vki},{deger}\"\n",
    "   t6=f\"Kayır tarihi{kayıt_tarihi}\"\n",
    "   return ( t1 + \"\\n \"+ t2 + \"\\n\" + t3 + \"\\n\" + t4 +\"\\n\" + t5 +\"\\n\"+ t6 +\"\\n\")\n",
    "for i in range (giriş_sayısı):\n",
    "    print(f\"Kullanıcı kaydı{i+1}\")\n",
    "    ad_soyad,yas,kilo,boy=bilgi_al\n",
    "    vki=vki_hesapla(kilo,boy)\n",
    "    değer= deger_hesapla(vki)\n",
    "    kayıt_tarihi=time.ctime(time.time())\n",
    "    output_1 = output(ad_soyad, yas, kilo, boy, vki, deger, kayıt_tarihi)\n",
    "    with open (\"sağlik_bilgileri\", \"r+ \") as file:\n",
    "          file.write(output_1)\n",
    "          file.write(\"*\"*20)\n",
    "          file.write(\"\\n\")\n",
    "          print(\"kullanıcı kaydedildi.\")\n",
    "\n"
   ]
  },
  {
   "attachments": {},
   "cell_type": "markdown",
   "metadata": {},
   "source": [
    "# Problem 2\n",
    "**YetBar - Smoothie Bank**\n",
    "---\n",
    "YetBar spor salonunun girişinde bulunan, insansız bir sağlıklı içecek otomatıdır. Kullanıcı çeşitli girdiler smoothie içeceğine koyacağı ürünleri belirleyebilir, fiyat hesaplaması yaptırabilir ya da sadece menüyü görüntüleyebilir.\n",
    "\n",
    "**Projenin Amacı:**\n",
    "\n",
    "*   Birbirini etkileyen ve bir kod içerisinde birden fazla defa başvurulacak fonksiyonların oluşturulup, \"fonksiyonel\" proglamlamak.\n",
    "*   Büyük programları yazarken, yazılımcı olarak yapabileceğimiz hatalardan kaçınmak için kontrol yöntemleri geliştirmek.\n",
    "*   Kullanıcı inputlarını ve yaptığımız hesapları, raporlamak/loglamak amacıyla kaydetmek.\n",
    "\n",
    "**Programdan Beklenen Çıktılar**\n",
    "* Program kullanıcıya temelde 2 farklı işlem yapma imkanı sağlar.\n",
    "> 1. Menüyü görüntüleme\n",
    "> 3. Satın alma\n",
    "* Satın alınan her içecek tarih, fiyat bilgisi ile kaydedilmeli ve her zaman ulaşılabilir olmalıdır.\n",
    "\n",
    "\n"
   ]
  },
  {
   "cell_type": "code",
   "execution_count": 31,
   "metadata": {},
   "outputs": [
    {
     "name": "stdout",
     "output_type": "stream",
     "text": [
      "***********YetBara Hoş Geldiniz************\n",
      "Menüyü Görüntülemek için 0ı tuşlayınız..\n",
      "1. Muz - 2.3 TL\n",
      "2. Elma - 1.4 TL\n",
      "3. Armut - 2.1 TL\n",
      "Muz sepete eklendi.\n",
      "[{'number': 1, 'ürün': 'Muz', 'Fiyat': 2.3}]\n"
     ]
    },
    {
     "ename": "ValueError",
     "evalue": "invalid literal for int() with base 10: ''",
     "output_type": "error",
     "traceback": [
      "\u001b[1;31m---------------------------------------------------------------------------\u001b[0m",
      "\u001b[1;31mValueError\u001b[0m                                Traceback (most recent call last)",
      "Cell \u001b[1;32mIn[31], line 28\u001b[0m\n\u001b[0;32m     26\u001b[0m          \u001b[38;5;28;01mbreak\u001b[39;00m\n\u001b[0;32m     27\u001b[0m        \u001b[38;5;28;01mbreak\u001b[39;00m\n\u001b[1;32m---> 28\u001b[0m \u001b[43msepete_ekle\u001b[49m\u001b[43m(\u001b[49m\u001b[43m)\u001b[49m\n",
      "Cell \u001b[1;32mIn[31], line 17\u001b[0m, in \u001b[0;36msepete_ekle\u001b[1;34m()\u001b[0m\n\u001b[0;32m     15\u001b[0m sepet\u001b[38;5;241m=\u001b[39m[]\n\u001b[0;32m     16\u001b[0m \u001b[38;5;28;01mwhile\u001b[39;00m \u001b[38;5;28;01mTrue\u001b[39;00m:  \n\u001b[1;32m---> 17\u001b[0m    ürün_numarası\u001b[38;5;241m=\u001b[39m\u001b[38;5;28;43mint\u001b[39;49m\u001b[43m(\u001b[49m\u001b[38;5;28;43minput\u001b[39;49m\u001b[43m(\u001b[49m\u001b[43m(\u001b[49m\u001b[38;5;124;43m\"\u001b[39;49m\u001b[38;5;124;43mSepete eklemek istediğiniz ürünün numarasını giriniz: veya çıkmak için 0a basınız.\u001b[39;49m\u001b[38;5;124;43m\"\u001b[39;49m\u001b[43m)\u001b[49m\u001b[43m)\u001b[49m\u001b[43m \u001b[49m\u001b[43m)\u001b[49m\n\u001b[0;32m     18\u001b[0m    \u001b[38;5;28;01mfor\u001b[39;00m item \u001b[38;5;129;01min\u001b[39;00m menu:\n\u001b[0;32m     19\u001b[0m     \u001b[38;5;28;01mif\u001b[39;00m item[\u001b[38;5;124m'\u001b[39m\u001b[38;5;124mnumber\u001b[39m\u001b[38;5;124m'\u001b[39m] \u001b[38;5;241m==\u001b[39m ürün_numarası:\n",
      "\u001b[1;31mValueError\u001b[0m: invalid literal for int() with base 10: ''"
     ]
    }
   ],
   "source": [
    "menu= [ \n",
    "      {\"number\":1,\"ürün\":\"Muz\",\"Fiyat\":2.30},\n",
    "      {\"number\":2,\"ürün\":\"Elma\",\"Fiyat\":1.40},\n",
    "      {\"number\":3,\"ürün\":\"Armut\",\"Fiyat\":2.10}]\n",
    "print(\"***********YetBara Hoş Geldiniz************\")\n",
    "print(\"Menüyü Görüntülemek için 0ı tuşlayınız..\")\n",
    "def menü_göster():\n",
    "  menü_göster= int(input(\"Tuşlayınız:\"))\n",
    "  if menü_göster == 0:\n",
    "        for item in menu:\n",
    "          print(f\"{item['number']}. {item['ürün']} - {item['Fiyat']} TL\")\n",
    "      \n",
    "menü_göster()#fonksiyonu üstte tanımladıktan sonra fonksiyonu çağırmamız gerekli!!\n",
    "def sepete_ekle():\n",
    "   sepet=[]\n",
    "   while True:  \n",
    "      ürün_numarası=int(input((\"Sepete eklemek istediğiniz ürünün numarasını giriniz: veya çıkmak için 0a basınız.\")) )\n",
    "      for item in menu:\n",
    "       if item['number'] == ürün_numarası:\n",
    "        sepet.append(item)  # Tüm ürün bilgisini ekle\n",
    "        print(f\"{item['ürün']} sepete eklendi.\")\n",
    "        print(sepet)\n",
    "        break\n",
    "       elif ürün_numarası== 0:\n",
    "         print(\"Çıkış yapılıyor\")\n",
    "         break\n",
    "       break\n",
    "sepete_ekle()\n",
    "def fişi_yazdir():\n",
    "   "
   ]
  }
 ],
 "metadata": {
  "kernelspec": {
   "display_name": "Python 3",
   "language": "python",
   "name": "python3"
  },
  "language_info": {
   "codemirror_mode": {
    "name": "ipython",
    "version": 3
   },
   "file_extension": ".py",
   "mimetype": "text/x-python",
   "name": "python",
   "nbconvert_exporter": "python",
   "pygments_lexer": "ipython3",
   "version": "3.12.3"
  },
  "orig_nbformat": 4,
  "vscode": {
   "interpreter": {
    "hash": "5026d2d6e7aaaaba093def813beadff083d8733e4a511af01735cbabd156995d"
   }
  }
 },
 "nbformat": 4,
 "nbformat_minor": 2
}
