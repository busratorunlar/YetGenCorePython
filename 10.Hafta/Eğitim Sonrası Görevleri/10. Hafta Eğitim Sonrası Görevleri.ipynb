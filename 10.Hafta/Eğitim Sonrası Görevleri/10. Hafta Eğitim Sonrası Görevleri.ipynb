{
 "cells": [
  {
   "attachments": {},
   "cell_type": "markdown",
   "metadata": {},
   "source": [
    "# Problem 1 "
   ]
  },
  {
   "cell_type": "code",
   "execution_count": 2,
   "metadata": {},
   "outputs": [
    {
     "name": "stdout",
     "output_type": "stream",
     "text": [
      "[4 5 7 8 9]\n"
     ]
    }
   ],
   "source": [
    "# 1 - numpy kütüphanesini import edin\n",
    "import numpy as np \n",
    "# 2 - 5 elemanlı bir numpy array oluşturun\n",
    "a = np.array([9,8,4,5,7,])\n",
    "# 3 - Oluşturduğunuz arrayi küçükten büyüğe sıralayın.\n",
    "sorted_a=np.sort(a)\n",
    "print(sorted_a)"
   ]
  },
  {
   "attachments": {},
   "cell_type": "markdown",
   "metadata": {},
   "source": [
    "# Problem 2"
   ]
  },
  {
   "cell_type": "code",
   "execution_count": 35,
   "metadata": {},
   "outputs": [
    {
     "name": "stdout",
     "output_type": "stream",
     "text": [
      "[10 15 20 25 30 35 40 45 50 55]\n",
      "[ 5  6  7  8  9 10 11 12 13 14]\n",
      "[50 55 60 65 70 75 80 85 90 95]\n",
      "[0. 0. 0. 0. 0. 0. 0. 0. 0. 0.]\n",
      "[1. 1. 1. 1. 1. 1. 1. 1. 1. 1.]\n",
      "[  0.  25.  50.  75. 100.]\n",
      "[12 25 28 23 17]\n",
      "[ 0  0 -1 -1  0  0 -1  0 -1  0]\n",
      "[[17 24 46 38 39]\n",
      " [27 41 22 22 34]\n",
      " [29 28 25 26 35]]\n",
      "[164 146 143]\n",
      "[ 73  93  93  86 108]\n",
      "46\n",
      "17\n",
      "30.2\n",
      "[[17 24 38 39 46]]\n",
      "[10 11 12]\n",
      "[19 18 17 16 15 14 13 12 11 10]\n",
      "[[17 24 46 38 39]]\n",
      "[[27 41 22 22 34]]\n",
      "[17 27 29]\n",
      "[[ 289  576 2116 1444 1521]\n",
      " [ 729 1681  484  484 1156]\n",
      " [ 841  784  625  676 1225]]\n",
      "[[ -8 -14  16  12  12]\n",
      " [ 40  -2 -33  48  39]\n",
      " [ 25   0   1  43  47]]\n",
      "[[False False  True  True  True]\n",
      " [ True False False  True  True]\n",
      " [ True False  True  True  True]]\n"
     ]
    }
   ],
   "source": [
    "# 1- (10,15,30,45,60) değerlerine sahip numpy dizisi oluşturunuz.\n",
    "a = np.arange(10,60)\n",
    "print(a[0::5])\n",
    "\n",
    "# 2- (5-15) arasındaki sayılarla numpy dizisi oluşturunuz.\n",
    "b= np.arange(5,15)\n",
    "print(b)\n",
    "\n",
    "# 3- (50-100) arasında 5'er 5'er artarak numpy dizisi oluşturunuz.\n",
    "c= np.arange(50,100)\n",
    "print(c[0::5])\n",
    "\n",
    "# 4- 10 elemanlı sıfırlardan oluşan bir dizi oluşturunuz.\n",
    "d=np.zeros(10)\n",
    "print(d)\n",
    "\n",
    "# 5- 10 elemanlı birlerden oluşan bir dizi oluşturunuz.\n",
    "e= np.ones(10)\n",
    "print(e)\n",
    "\n",
    "# 6- (0-100) arasında eşit aralıklı 5 sayı üretin.\n",
    "f= np.linspace(0, 100, 5)\n",
    "print(f)\n",
    "\n",
    "# 7- (10-30) arasında rastgele 5 tane tamsayı üretin.\n",
    "g= np.random.randint(10, 31, 5)\n",
    "print(g)\n",
    "\n",
    "# 8- [-1 ile 1] arasında 10 adet sayı üretin.\n",
    "ğ=np.random.randint(-1,1,10)\n",
    "print(ğ)\n",
    "\n",
    "# 9- (3x5) boyutlarında (10-50) arasında rastgele bir matris oluşturunuz.\n",
    "h=np.random.randint(10,50,size=[3,5])\n",
    "print(h)\n",
    "\n",
    "# 10- Üretilen matrisin satır ve sütun sayıları toplamlarını hesaplayınız ?\n",
    "satır_toplam=np.sum(h,axis=1)\n",
    "sütun_toplam=np.sum(h,axis=0)\n",
    "print(satır_toplam)\n",
    "print(sütun_toplam)\n",
    "\n",
    "# 11- Üretilen matrisin en büyük, en küçük ve ortalaması nedir ?\n",
    "en_büyük=np.max(h)\n",
    "print(en_büyük)\n",
    "en_küçük=np.min(h)\n",
    "print(en_küçük)\n",
    "ortalama=np.mean(h)\n",
    "print(ortalama)\n",
    "\n",
    "# 12- Üretilen matrisin en büyük değerinin indeksi kaçtır ?\n",
    "sort_h=np.sort(h)\n",
    "print(sort_h[0:1])\n",
    "\n",
    "# 13- (10-20) arasındaki sayıları içeren dizinin ilk 3 elemanını seçiniz.\n",
    "dizi= np.arange(10,20)\n",
    "print(dizi[0:3])\n",
    "\n",
    "# 14- Üretilen dizinin elemanlarını tersten yazdırın.\n",
    "ters_dizi= dizi[::-1]\n",
    "print(ters_dizi)\n",
    "\n",
    "# 15- Üretilen matrisin ilk satırını seçiniz.\n",
    "print(h[0:1])\n",
    "\n",
    "# 16- Üretilen matrisin 2.satır 3.sütundaki elemanı hangisidir ?\n",
    "print(h[1:2])\n",
    "\n",
    "# 17- Üretilen matrisin tüm satırlardaki ilk elemanı seçiniz.\n",
    "print(h[:,0])\n",
    "\n",
    "# 18- Üretilen matrisin her bir elemanının karesini alınız.\n",
    "print(h**2)\n",
    "\n",
    "# 19- Üretilen matris elemanlarının hangisi pozitif çift sayıdır ? Aralığı (-50,+50) arasında yapınız.\n",
    "yeni_matris= np.random.randint(-50,50,size=[3,5])\n",
    "print(yeni_matris)\n",
    "print(yeni_matris> 0)"
   ]
  }
 ],
 "metadata": {
  "kernelspec": {
   "display_name": "Python 3",
   "language": "python",
   "name": "python3"
  },
  "language_info": {
   "codemirror_mode": {
    "name": "ipython",
    "version": 3
   },
   "file_extension": ".py",
   "mimetype": "text/x-python",
   "name": "python",
   "nbconvert_exporter": "python",
   "pygments_lexer": "ipython3",
   "version": "3.12.3"
  },
  "orig_nbformat": 4,
  "vscode": {
   "interpreter": {
    "hash": "5026d2d6e7aaaaba093def813beadff083d8733e4a511af01735cbabd156995d"
   }
  }
 },
 "nbformat": 4,
 "nbformat_minor": 2
}
