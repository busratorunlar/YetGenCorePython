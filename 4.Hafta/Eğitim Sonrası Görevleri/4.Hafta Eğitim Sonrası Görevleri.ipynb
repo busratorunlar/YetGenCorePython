{
 "cells": [
  {
   "cell_type": "markdown",
   "metadata": {},
   "source": [
    "# Problem 1\n",
    "`ogrenciler` adında bir sözlük oluşturunuz. Kullanıcıdan döngü yardımıyla 3 öğrenci için veri girmesini isteyerek öğrencilerin sırasıyla okul numarası, isim, soy isim, telefon numarası ve doğum tarihi bilgilerini alınız. Aldığınız öğrenci bilgilerini yine aynı döngü yardımıyla `ogrenciler` adındaki sözlükte saklayınız. Daha sonra öğrenci bilgilerinin bulunduğu sözlük yapısını ekrana bastırınız.\n",
    "\n"
   ]
  },
  {
   "cell_type": "code",
   "execution_count": 6,
   "metadata": {},
   "outputs": [
    {
     "ename": "SyntaxError",
     "evalue": "invalid syntax. Perhaps you forgot a comma? (1514781056.py, line 8)",
     "output_type": "error",
     "traceback": [
      "\u001b[1;36m  Cell \u001b[1;32mIn[6], line 8\u001b[1;36m\u001b[0m\n\u001b[1;33m    \"ad_soyad\" isim_soyisim,\u001b[0m\n\u001b[1;37m    ^\u001b[0m\n\u001b[1;31mSyntaxError\u001b[0m\u001b[1;31m:\u001b[0m invalid syntax. Perhaps you forgot a comma?\n"
     ]
    }
   ],
   "source": [
    "oğrenciler=[]\n",
    "for i in range(3):\n",
    "    isim_soyisim= input(f\"{i+1}öğrencisinin adı ve soyadını girin:\")\n",
    "    numara=input(f\"{i+1} öğrencisinin numarasını giriniz:\")\n",
    "    telefon_numarası=input(f\"{i+1} öğrencilerin telefon numarasını giriniz:\")\n",
    "    doğum_tarihi=input(f\"{i+1} öğrencinin doğum tarihini giriniz:\")\n",
    "oğrenci= {\n",
    "    \"ad_soyad\" isim_soyisim,\n",
    "    \"numara\":numara ,\n",
    "    \"telefon_numarası\":telefon_numarası,\n",
    "    \"doğum_tarihi\"doğum\n",
    "}\n",
    "oğrenciler.appened(oğrenci)\n",
    "print(\"gırılen öğrenci verileri:\")\n",
    "for oğrenci in oğrenciler:\n",
    "    print(f\"ad_soyad:{oğrenci['advesoyad']},numara:{oğrenci[numara]},\")\n"
   ]
  },
  {
   "cell_type": "markdown",
   "metadata": {},
   "source": [
    "# Problem 2\n",
    "\n",
    "### a - Biraz ısınarak başlayalım!\n",
    "\n",
    "```\n",
    "numbers = [5,10,10,15,15,15,20,20,20,20]\n",
    "```\n",
    "\n",
    "Yukarıda `numbers` adında 10 elemanlı bir liste verilmiştir. Bu listenin her elemanını kontrol eden ve tekrar eden elemanları bir kez olacak şekilde başka bir listeye kopyalayan bir program yazınız. Son olarak oluşturduğunuz listeyi ekrana bastırınız.\n",
    "\n",
    "\n",
    "\n",
    "\n",
    "```\n",
    ">Output\n",
    "[5, 10, 15, 20]\n",
    "```\n"
   ]
  },
  {
   "cell_type": "code",
   "execution_count": null,
   "metadata": {},
   "outputs": [],
   "source": [
    "numbes = [5,10,10,15,15,15,20,20,20,20]"
   ]
  },
  {
   "cell_type": "markdown",
   "metadata": {},
   "source": [
    "### 🌶️ b) Hadi işi biraz daha zorlaştıralım! \n",
    "\n",
    "\n",
    "Şimdiyse senden `numbers` isimli listedeki tekrar eden elemanları `repeatNumbers` adındaki listeye; tekrar etmeyen elemanları `uniqueNumbers`adındaki listeye kopyalayan yazmanı ve listeleri ekrana bastırmanı bekliyoruz\n",
    "\n",
    "```\n",
    ">Output\n",
    "Tekrar Eden Elemanlar: [10, 10, 15, 15, 15, 20, 20, 20, 20]\n",
    "Tekrar Etmeyen Elemanlar: [5]\n",
    "```"
   ]
  },
  {
   "cell_type": "code",
   "execution_count": null,
   "metadata": {},
   "outputs": [],
   "source": [
    "# 2.Problemin b Şıkkının Çözümünü Buraya Yazınız"
   ]
  },
  {
   "cell_type": "markdown",
   "metadata": {},
   "source": [
    "# Problem 3\n",
    "sn1 = {1,2,3,4,5}\n",
    "\n",
    "sn2 = {4,5,6,7,8}\n",
    "\n",
    " Verilen 2 adet küme için kesişimlerini, farklarını ve birleşimlerini bulunuz. "
   ]
  },
  {
   "cell_type": "code",
   "execution_count": 42,
   "metadata": {},
   "outputs": [
    {
     "name": "stdout",
     "output_type": "stream",
     "text": [
      "Ankara İstanbul İzmir Bursa Van Diyerbakır Artvin Denizli\n",
      "['Ankara', 'İstanbul', 'İzmir', 'Bursa', 'Van', 'Diyerbakır', 'Artvin', 'Denizli']\n"
     ]
    },
    {
     "ename": "AttributeError",
     "evalue": "'list' object has no attribute 'islower'",
     "output_type": "error",
     "traceback": [
      "\u001b[1;31m---------------------------------------------------------------------------\u001b[0m",
      "\u001b[1;31mAttributeError\u001b[0m                            Traceback (most recent call last)",
      "Cell \u001b[1;32mIn[42], line 8\u001b[0m\n\u001b[0;32m      6\u001b[0m ayrı_veriler\u001b[38;5;241m=\u001b[39mbirlesik_veriler\u001b[38;5;241m.\u001b[39msplit()\n\u001b[0;32m      7\u001b[0m \u001b[38;5;28mprint\u001b[39m(ayrı_veriler)\n\u001b[1;32m----> 8\u001b[0m \u001b[38;5;28mprint\u001b[39m(\u001b[43mayrı_veriler\u001b[49m\u001b[38;5;241;43m.\u001b[39;49m\u001b[43mislower\u001b[49m())\n",
      "\u001b[1;31mAttributeError\u001b[0m: 'list' object has no attribute 'islower'"
     ]
    }
   ],
   "source": [
    "veriler=[\"Ankara\",\"İstanbul\",\"İzmir\",\"Bursa\",\"Van\",\"Diyerbakır\",\"Artvin\",\"Denizli\"]\n",
    "#Listedeki tüm stringleri birleştirdik\n",
    "birlesik_veriler=\" \".join(veriler)\n",
    "print(birlesik_veriler)\n",
    "#Birleşik verileri virgülle tekrar ayırdık.\n",
    "ayrı_veriler=birlesik_veriler.split()\n",
    "print(ayrı_veriler)\n",
    "print(ayrı_veriler\n"
   ]
  },
  {
   "cell_type": "markdown",
   "metadata": {},
   "source": [
    "# Problem 4\n",
    "\n",
    "Buradaki işlemlerimizin tamamı stringler içindir. Aşağıda verilecek olan metodlar için kendinizin örnek yaratması gerekmektedir. \n",
    "\n",
    "Örneğin `upper` için `string` değişkeni oluştururken` k = \"BAC\"` şeklinde oluşturmayınız. Bunun yerine k değişkenini `k = \"bac`\" şeklinde oluşturmanız `upper` metodundaki değişimi görebilmeniz için daha iyi olacaktır.\n",
    "\n",
    "Bütün metodlardaki değişimin gözle görülür şekilde değişimi beklenmektedir.\n",
    "\n",
    "\n",
    "1- capitalize(), lower(), upper(), swapcase(), title(), replace()\n",
    "\n",
    "2- endswith(), startswith(), find(), index(), count()\n",
    "\n",
    "3- split(), strip(), join(), islower(), isalpha(), isdigit()\n",
    "\n",
    "\n",
    "Yukarıdaki `string` metodlarındaki değişimleri görebildiğimiz bir program yazınız.\n"
   ]
  },
  {
   "cell_type": "code",
   "execution_count": 22,
   "metadata": {},
   "outputs": [
    {
     "name": "stdout",
     "output_type": "stream",
     "text": [
      "Büşra torunlar\n",
      "bÜŞRA TORUNLAR\n",
      "büşra torunlar\n",
      "BÜŞRA TORUNLAR\n",
      "Büşra Torunlar\n",
      "Büsra Torunlar\n"
     ]
    }
   ],
   "source": [
    "#1.Case\n",
    "#Büşra biraz mal olduğu için bilgisayara koyduğu şifrenin büyük küçük harf uyumunu unutmuş ve koyduğu şifreyi bulabilmek için kendine bir kod \n",
    "#yazmayı deniyor.\n",
    "isim_Soyisim=str(input(\"Kullanıcı şifresini giriniz\"))\n",
    "#Basş harfi büyütmek için.\n",
    "deneme1=isim_Soyisim.capitalize()\n",
    "print(deneme1)\n",
    "#Büyük harfleri küçültür, küçük harfleri büyütür.\n",
    "deneme2=deneme1.swapcase()\n",
    "print(deneme2)\n",
    "#Her harfi küçük harfe çevirir.\n",
    "deneme3=deneme2.lower()\n",
    "print(deneme3)\n",
    "#Her Harfi büyük harfe çevirir.\n",
    "deneme4=deneme3.upper()\n",
    "print(deneme4)\n",
    "#Kelimelerin ilk harflerin büyültür.\n",
    "deneme5=deneme4.title()\n",
    "print(deneme5)\n",
    "#Belirlenen harfi değiştirir.\n",
    "deneme6=deneme5.replace(\"ş\",\"s\")\n",
    "print(deneme6)\n",
    "\n",
    "#2. Case\n",
    "#YetGen lideri Büşra katılımcılarına verdiği görevleri kontrol etmek için bir algoritma tasarlıyor.\n",
    "#Katılımcılarına yönelttiği soruda \"Artar\",\"Azalır\",\"Değişmez\"şıklarını sunuyor. \n",
    "#Doğru cevabın\"artan\"olması gerekiyor\n",
    "cevap=input(\"Size en yakın gelen cevabı giriniz.\")\n",
    "cevap_low=cevap.lower()\n",
    "print(cevap_low.startswith(\"a\"))\n",
    "print(cevap_low.endswith(\"r\"))\n",
    "print(cevap_low.find(\"t\"))\n",
    "print(cevap_low.count(\"a\"))\n",
    "print(cevap_low.index(\"r\"))\n",
    "print(\"artar\"in cevap_low)\n",
    "\n",
    "#3.Case\n",
    "#Taze developer Büşra ona verilen veri setinde hata olup olmadığını kontrol etmek istiyor.\n",
    "veriler=[\"Ankara\",\"İstanbul\",\"İzmir\",\"Bursa\",\"Van\",\"Diyerbakır\",\"Artvin\",\"Denizli\"]\n",
    "birlesik_veriler=\" \", join(veriler)\n",
    "\n",
    "\n",
    "\n",
    "\n",
    "\n"
   ]
  }
 ],
 "metadata": {
  "kernelspec": {
   "display_name": "Python 3.10.5 64-bit",
   "language": "python",
   "name": "python3"
  },
  "language_info": {
   "codemirror_mode": {
    "name": "ipython",
    "version": 3
   },
   "file_extension": ".py",
   "mimetype": "text/x-python",
   "name": "python",
   "nbconvert_exporter": "python",
   "pygments_lexer": "ipython3",
   "version": "3.12.3"
  },
  "orig_nbformat": 4,
  "vscode": {
   "interpreter": {
    "hash": "5026d2d6e7aaaaba093def813beadff083d8733e4a511af01735cbabd156995d"
   }
  }
 },
 "nbformat": 4,
 "nbformat_minor": 2
}
