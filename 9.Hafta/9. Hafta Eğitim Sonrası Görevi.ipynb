{
 "cells": [
  {
   "attachments": {},
   "cell_type": "markdown",
   "metadata": {},
   "source": [
    "# Problem 1\n",
    "\n",
    "Kumanda isminde bir sınıf oluşturarak aşağıdaki işlemleri yapmasını sağlayan fonksiyonları sınıf içerisinde yazalım.\n",
    "1. Tv Aç\n",
    "2. Tv Kapat\n",
    "3. Ses Ayarları\n",
    "4. Kanal Ekle\n",
    "5. Kanal Sayısını Öğrenme\n",
    "6. Rastgele Kanala Geçme\n",
    "7. Televizyon Bilgileri\n",
    "\n",
    "\n",
    "Kumandayı kapatmak için q tuşuna basılmalı ve diğer durumlarda hangi işlemi yapmak istediği sorulmalıdır. Her işlemde gerekli fonksiyonunun sınıf içerisinden çağırılması gerekmektedir.\n",
    "\n",
    "random ve time kütüphanesini araştırarak kullanabilirsiniz.\n",
    "\n",
    "Kendi istediğiniz özellikleri eklemekte serbetsiniz."
   ]
  },
  {
   "cell_type": "code",
   "execution_count": null,
   "metadata": {},
   "outputs": [],
   "source": [
    "import random\n",
    "import time\n",
    "class kumanda():\n",
    "    def __init__(self,tv_durum=\"Kapalı\",tv_ses=0, kanal_Listesi=[\"trt\"] , kanal=\"trt\"):\n",
    "        self.tv_durum = tv_durum\n",
    "        self.tv_ses=tv_ses\n",
    "        self.kanal_Listesi=kanal_Listesi\n",
    "        self.kanal=kanal\n",
    "    def tv_aç(self):\n",
    "        if self.tv_durum==\"Açık\":\n",
    "            print(\"Televizyon açık durumda.\")\n",
    "        else:\n",
    "            print(\"Televizyon açılıyor...\")\n",
    "            self.tv_durum=\"Açık\"\n",
    "        self tv_kapat(self):\n",
    "        if self.tv_durum == \"Kapalı\":\n",
    "         print(\"Televizyon kapalı durumda\")\n",
    "        else:\n",
    "            print(\"Televizyon Kapanıyor\")\n",
    "            self.tv_durum= \"Kapalı\"\n",
    "    def ses_ayarları(self):\n",
    "        cevap= input(\"Sesi Azalt:'<' Sesi Arttır:'>' Çıkış:Çıkış\")\n",
    "        if cevap==\"<\":\n",
    "            if self.tv_ses -=1:\n",
    "             print(\"Ses: \", self.tv_ses)\n",
    "            elif cevap ==\">\":\n",
    "               self.tv_ses += 1\n",
    "               print(\"Ses:\", self.tv_ses)\n",
    "            else:\n",
    "               print(\"Ses güncellendi\":self.tv_ses)\n",
    "            break\n",
    "    def kanal_ekle(self,kanal_ismi):\n",
    "       print(\"Kanal ekleniyor...\")\n",
    "       time.sleep(1)\n",
    "       self.kanal_Listesi.append(kanal_ismi)\n",
    "       print(\"Kanal Eklendi\")\n",
    "    def rastgele_kanal(self):\n",
    "       rastgele= random.randint(0,len(self.kanallistesi)-1)\n",
    "       print(\"Kanal:\",self.kanal)\n",
    "def __len__(self):\n",
    "   return len(self.kanallistesi)\n",
    "\n",
    "\n",
    "\n",
    "\n",
    "    \n"
   ]
  }
 ],
 "metadata": {
  "kernelspec": {
   "display_name": "Python 3",
   "language": "python",
   "name": "python3"
  },
  "language_info": {
   "name": "python",
   "version": "3.10.5 (tags/v3.10.5:f377153, Jun  6 2022, 16:14:13) [MSC v.1929 64 bit (AMD64)]"
  },
  "orig_nbformat": 4,
  "vscode": {
   "interpreter": {
    "hash": "5026d2d6e7aaaaba093def813beadff083d8733e4a511af01735cbabd156995d"
   }
  }
 },
 "nbformat": 4,
 "nbformat_minor": 2
}
